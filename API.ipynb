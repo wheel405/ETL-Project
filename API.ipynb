{
 "cells": [
  {
   "cell_type": "code",
   "execution_count": 1,
   "metadata": {},
   "outputs": [],
   "source": [
    "import requests\n",
    "import json\n",
    "import time\n",
    "import pandas as pd\n",
    "from sqlalchemy import create_engine\n",
    "import psycopg2"
   ]
  },
  {
   "cell_type": "code",
   "execution_count": 2,
   "metadata": {},
   "outputs": [],
   "source": [
    "# New Dependency! Use this to pretty print the JSON\n",
    "# https://docs.python.org/3/library/pprint.html\n",
    "from pprint import pprint"
   ]
  },
  {
   "cell_type": "code",
   "execution_count": 3,
   "metadata": {},
   "outputs": [],
   "source": [
    "# Note that the ?t= is a query param for the t-itle of the\n",
    "# movie we want to search for.\n",
    "url = \"http://www.omdbapi.com/?t=\"\n",
    "api_key = \"&apikey=trilogy\""
   ]
  },
  {
   "cell_type": "code",
   "execution_count": 4,
   "metadata": {
    "scrolled": false
   },
   "outputs": [
    {
     "name": "stdout",
     "output_type": "stream",
     "text": [
      "http://www.omdbapi.com/?t=Angry%20Birds&apikey=trilogy\n",
      "{'Title': 'The Angry Birds Movie', 'Year': '2016', 'Rated': 'PG', 'Released': '20 May 2016', 'Runtime': '97 min', 'Genre': 'Animation, Comedy, Family', 'Director': 'Clay Kaytis, Fergal Reilly', 'Writer': 'Jon Vitti (screenplay by), Mikael Hed (story by), Mikko Pöllä (story by), John Cohen (story by), Mikael Hed (created by: The Original Angry Birds Game)', 'Actors': 'Jason Sudeikis, Josh Gad, Danny McBride, Maya Rudolph', 'Plot': \"When an island populated by happy, flightless birds is visited by mysterious green piggies, it's up to three unlikely outcasts - Red, Chuck and Bomb - to figure out what the pigs are up to.\", 'Language': 'English', 'Country': 'Finland, USA', 'Awards': '1 win & 7 nominations.', 'Poster': 'https://m.media-amazon.com/images/M/MV5BMTY3MjU0NDA0OF5BMl5BanBnXkFtZTgwNTc0MTU3OTE@._V1_SX300.jpg', 'Ratings': [{'Source': 'Internet Movie Database', 'Value': '6.3/10'}, {'Source': 'Rotten Tomatoes', 'Value': '43%'}, {'Source': 'Metacritic', 'Value': '43/100'}], 'Metascore': '43', 'imdbRating': '6.3', 'imdbVotes': '73,195', 'imdbID': 'tt1985949', 'Type': 'movie', 'DVD': '16 Aug 2016', 'BoxOffice': '$107,506,776', 'Production': 'Sony Pictures', 'Website': 'N/A', 'Response': 'True'}\n",
      "http://www.omdbapi.com/?t=Avengers&apikey=trilogy\n",
      "{'Title': 'The Avengers', 'Year': '2012', 'Rated': 'PG-13', 'Released': '04 May 2012', 'Runtime': '143 min', 'Genre': 'Action, Adventure, Sci-Fi', 'Director': 'Joss Whedon', 'Writer': 'Joss Whedon (screenplay), Zak Penn (story), Joss Whedon (story)', 'Actors': 'Robert Downey Jr., Chris Evans, Mark Ruffalo, Chris Hemsworth', 'Plot': \"Earth's mightiest heroes must come together and learn to fight as a team if they are going to stop the mischievous Loki and his alien army from enslaving humanity.\", 'Language': 'English, Russian, Hindi', 'Country': 'USA', 'Awards': 'Nominated for 1 Oscar. Another 38 wins & 79 nominations.', 'Poster': 'https://m.media-amazon.com/images/M/MV5BNDYxNjQyMjAtNTdiOS00NGYwLWFmNTAtNThmYjU5ZGI2YTI1XkEyXkFqcGdeQXVyMTMxODk2OTU@._V1_SX300.jpg', 'Ratings': [{'Source': 'Internet Movie Database', 'Value': '8.0/10'}, {'Source': 'Rotten Tomatoes', 'Value': '92%'}, {'Source': 'Metacritic', 'Value': '69/100'}], 'Metascore': '69', 'imdbRating': '8.0', 'imdbVotes': '1,204,899', 'imdbID': 'tt0848228', 'Type': 'movie', 'DVD': '25 Sep 2012', 'BoxOffice': '$623,279,547', 'Production': 'Walt Disney Pictures', 'Website': 'N/A', 'Response': 'True'}\n",
      "http://www.omdbapi.com/?t=Batman&apikey=trilogy\n",
      "{'Title': 'Batman', 'Year': '1989', 'Rated': 'PG-13', 'Released': '23 Jun 1989', 'Runtime': '126 min', 'Genre': 'Action, Adventure', 'Director': 'Tim Burton', 'Writer': 'Bob Kane (Batman characters), Sam Hamm (story), Sam Hamm (screenplay), Warren Skaaren (screenplay)', 'Actors': 'Michael Keaton, Jack Nicholson, Kim Basinger, Robert Wuhl', 'Plot': 'The Dark Knight of Gotham City begins his war on crime with his first major enemy being the clownishly homicidal Joker.', 'Language': 'English, French, Spanish', 'Country': 'USA, UK', 'Awards': 'Won 1 Oscar. Another 8 wins & 26 nominations.', 'Poster': 'https://m.media-amazon.com/images/M/MV5BMTYwNjAyODIyMF5BMl5BanBnXkFtZTYwNDMwMDk2._V1_SX300.jpg', 'Ratings': [{'Source': 'Internet Movie Database', 'Value': '7.5/10'}, {'Source': 'Rotten Tomatoes', 'Value': '72%'}, {'Source': 'Metacritic', 'Value': '69/100'}], 'Metascore': '69', 'imdbRating': '7.5', 'imdbVotes': '317,478', 'imdbID': 'tt0096895', 'Type': 'movie', 'DVD': '25 Mar 1997', 'BoxOffice': 'N/A', 'Production': 'Warner Bros. Pictures', 'Website': 'N/A', 'Response': 'True'}\n",
      "http://www.omdbapi.com/?t=Cars&apikey=trilogy\n",
      "{'Title': 'Cars', 'Year': '2006', 'Rated': 'G', 'Released': '09 Jun 2006', 'Runtime': '117 min', 'Genre': 'Animation, Comedy, Family, Sport', 'Director': 'John Lasseter, Joe Ranft(co-director)', 'Writer': 'John Lasseter (original story by), Joe Ranft (original story by), Jorgen Klubien (original story by), Dan Fogelman (screenplay by), John Lasseter (screenplay by), Joe Ranft (screenplay by), Kiel Murray (screenplay by), Phil Lorin (screenplay by), Jorgen Klubien (screenplay by), Steve Purcell (additional screenplay material)', 'Actors': 'Owen Wilson, Paul Newman, Bonnie Hunt, Larry the Cable Guy', 'Plot': 'A hot-shot race-car named Lightning McQueen gets waylaid in Radiator Springs, where he finds the true meaning of friendship and family.', 'Language': 'English, Italian, Japanese, Yiddish', 'Country': 'USA', 'Awards': 'Nominated for 2 Oscars. Another 27 wins & 28 nominations.', 'Poster': 'https://m.media-amazon.com/images/M/MV5BMTg5NzY0MzA2MV5BMl5BanBnXkFtZTYwNDc3NTc2._V1_SX300.jpg', 'Ratings': [{'Source': 'Internet Movie Database', 'Value': '7.1/10'}, {'Source': 'Rotten Tomatoes', 'Value': '75%'}, {'Source': 'Metacritic', 'Value': '73/100'}], 'Metascore': '73', 'imdbRating': '7.1', 'imdbVotes': '338,668', 'imdbID': 'tt0317219', 'Type': 'movie', 'DVD': '07 Nov 2006', 'BoxOffice': '$244,052,771', 'Production': 'Buena Vista', 'Website': 'N/A', 'Response': 'True'}\n",
      "http://www.omdbapi.com/?t=Disney%20Princess&apikey=trilogy\n",
      "{'Title': 'Disney Princess Enchanted Tales: Follow Your Dreams', 'Year': '2007', 'Rated': 'Unrated', 'Released': '04 Sep 2007', 'Runtime': '56 min', 'Genre': 'Animation, Family', 'Director': 'David Block', 'Writer': 'Shirley Pierce', 'Actors': 'Susanne Blakeslee, Erin Torpey, Corey Burton, Barbara Dirickson', 'Plot': 'Princess Aurora and Princess Jasmine learn valuable life lessons in two short stories.', 'Language': 'English', 'Country': 'USA', 'Awards': '1 nomination.', 'Poster': 'https://m.media-amazon.com/images/M/MV5BODA4Mzk4ODM4Nl5BMl5BanBnXkFtZTgwOTEyMjA2MDE@._V1_SX300.jpg', 'Ratings': [{'Source': 'Internet Movie Database', 'Value': '5.2/10'}], 'Metascore': 'N/A', 'imdbRating': '5.2', 'imdbVotes': '307', 'imdbID': 'tt1135924', 'Type': 'movie', 'DVD': '04 Sep 2007', 'BoxOffice': 'N/A', 'Production': 'Walt Disney Home Entertainment', 'Website': 'N/A', 'Response': 'True'}\n",
      "http://www.omdbapi.com/?t=Ghostbusters&apikey=trilogy\n",
      "{'Title': 'Ghostbusters', 'Year': '1984', 'Rated': 'PG', 'Released': '08 Jun 1984', 'Runtime': '105 min', 'Genre': 'Action, Comedy, Fantasy', 'Director': 'Ivan Reitman', 'Writer': 'Dan Aykroyd, Harold Ramis', 'Actors': 'Bill Murray, Dan Aykroyd, Sigourney Weaver, Harold Ramis', 'Plot': 'Three former parapsychology professors set up shop as a unique ghost removal service.', 'Language': 'English', 'Country': 'USA', 'Awards': 'Nominated for 2 Oscars. Another 6 wins & 6 nominations.', 'Poster': 'https://m.media-amazon.com/images/M/MV5BMTkxMjYyNzgwMl5BMl5BanBnXkFtZTgwMTE3MjYyMTE@._V1_SX300.jpg', 'Ratings': [{'Source': 'Internet Movie Database', 'Value': '7.8/10'}, {'Source': 'Rotten Tomatoes', 'Value': '97%'}, {'Source': 'Metacritic', 'Value': '71/100'}], 'Metascore': '71', 'imdbRating': '7.8', 'imdbVotes': '329,806', 'imdbID': 'tt0087332', 'Type': 'movie', 'DVD': '29 Jun 1999', 'BoxOffice': 'N/A', 'Production': 'Columbia Pictures', 'Website': 'N/A', 'Response': 'True'}\n",
      "http://www.omdbapi.com/?t=Guardians%20of%20the%20Galaxy&apikey=trilogy\n",
      "{'Title': 'Guardians of the Galaxy', 'Year': '2014', 'Rated': 'PG-13', 'Released': '01 Aug 2014', 'Runtime': '121 min', 'Genre': 'Action, Adventure, Comedy, Sci-Fi', 'Director': 'James Gunn', 'Writer': 'James Gunn, Nicole Perlman, Dan Abnett (based on the Marvel comics by), Andy Lanning (based on the Marvel comics by), Bill Mantlo (character created by: Rocket Raccoon), Keith Giffen (character created by: Rocket Raccoon), Jim Starlin (characters created by: Drax the Destroyer,  Gamora & Thanos), Steve Englehart (character created by: Star-Lord), Steve Gan (character created by: Star-Lord), Steve Gerber (character created by: Howard the Duck), Val Mayerik (character created by: Howard the Duck)', 'Actors': 'Chris Pratt, Zoe Saldana, Dave Bautista, Vin Diesel', 'Plot': 'A group of intergalactic criminals must pull together to stop a fanatical warrior with plans to purge the universe.', 'Language': 'English', 'Country': 'USA', 'Awards': 'Nominated for 2 Oscars. Another 52 wins & 99 nominations.', 'Poster': 'https://m.media-amazon.com/images/M/MV5BMTAwMjU5OTgxNjZeQTJeQWpwZ15BbWU4MDUxNDYxODEx._V1_SX300.jpg', 'Ratings': [{'Source': 'Internet Movie Database', 'Value': '8.0/10'}, {'Source': 'Rotten Tomatoes', 'Value': '91%'}, {'Source': 'Metacritic', 'Value': '76/100'}], 'Metascore': '76', 'imdbRating': '8.0', 'imdbVotes': '980,628', 'imdbID': 'tt2015381', 'Type': 'movie', 'DVD': '09 Dec 2014', 'BoxOffice': '$270,592,504', 'Production': 'Walt Disney Pictures', 'Website': 'N/A', 'Response': 'True'}\n",
      "http://www.omdbapi.com/?t=Harry%20Potter&apikey=trilogy\n"
     ]
    },
    {
     "name": "stdout",
     "output_type": "stream",
     "text": [
      "{'Title': 'Harry Potter and the Deathly Hallows: Part 2', 'Year': '2011', 'Rated': 'PG-13', 'Released': '15 Jul 2011', 'Runtime': '130 min', 'Genre': 'Adventure, Drama, Fantasy, Mystery', 'Director': 'David Yates', 'Writer': 'Steve Kloves (screenplay), J.K. Rowling (novel)', 'Actors': 'Ralph Fiennes, Michael Gambon, Alan Rickman, Daniel Radcliffe', 'Plot': \"Harry, Ron, and Hermione search for Voldemort's remaining Horcruxes in their effort to destroy the Dark Lord as the final battle rages on at Hogwarts.\", 'Language': 'English', 'Country': 'USA, UK', 'Awards': 'Nominated for 3 Oscars. Another 45 wins & 91 nominations.', 'Poster': 'https://m.media-amazon.com/images/M/MV5BMjIyZGU4YzUtNDkzYi00ZDRhLTljYzctYTMxMDQ4M2E0Y2YxXkEyXkFqcGdeQXVyNTIzOTk5ODM@._V1_SX300.jpg', 'Ratings': [{'Source': 'Internet Movie Database', 'Value': '8.1/10'}, {'Source': 'Rotten Tomatoes', 'Value': '96%'}, {'Source': 'Metacritic', 'Value': '87/100'}], 'Metascore': '87', 'imdbRating': '8.1', 'imdbVotes': '708,269', 'imdbID': 'tt1201607', 'Type': 'movie', 'DVD': '11 Nov 2011', 'BoxOffice': '$381,000,185', 'Production': 'Warner Bros. Pictures', 'Website': 'N/A', 'Response': 'True'}\n",
      "http://www.omdbapi.com/?t=Indiana%20Jones&apikey=trilogy\n",
      "{'Title': 'Indiana Jones and the Last Crusade', 'Year': '1989', 'Rated': 'PG-13', 'Released': '24 May 1989', 'Runtime': '127 min', 'Genre': 'Action, Adventure', 'Director': 'Steven Spielberg', 'Writer': 'Jeffrey Boam (screenplay), George Lucas (story), Menno Meyjes (story), George Lucas (characters), Philip Kaufman (characters)', 'Actors': 'Harrison Ford, Sean Connery, Denholm Elliott, Alison Doody', 'Plot': 'In 1938, after his father Professor Henry Jones, Sr. goes missing while pursuing the Holy Grail, Professor Henry \"Indiana\" Jones, Jr. finds himself up against Adolf Hitler\\'s Nazis again to stop them from obtaining its powers.', 'Language': 'English, German, Greek, Arabic', 'Country': 'USA', 'Awards': 'Won 1 Oscar. Another 6 wins & 20 nominations.', 'Poster': 'https://m.media-amazon.com/images/M/MV5BMjNkMzc2N2QtNjVlNS00ZTk5LTg0MTgtODY2MDAwNTMwZjBjXkEyXkFqcGdeQXVyNDk3NzU2MTQ@._V1_SX300.jpg', 'Ratings': [{'Source': 'Internet Movie Database', 'Value': '8.2/10'}, {'Source': 'Rotten Tomatoes', 'Value': '88%'}, {'Source': 'Metacritic', 'Value': '65/100'}], 'Metascore': '65', 'imdbRating': '8.2', 'imdbVotes': '647,605', 'imdbID': 'tt0097576', 'Type': 'movie', 'DVD': '21 Oct 2003', 'BoxOffice': 'N/A', 'Production': 'Paramount Pictures', 'Website': 'N/A', 'Response': 'True'}\n",
      "http://www.omdbapi.com/?t=Iron%20Man&apikey=trilogy\n",
      "{'Title': 'Iron Man', 'Year': '2008', 'Rated': 'PG-13', 'Released': '02 May 2008', 'Runtime': '126 min', 'Genre': 'Action, Adventure, Sci-Fi', 'Director': 'Jon Favreau', 'Writer': 'Mark Fergus (screenplay), Hawk Ostby (screenplay), Art Marcum (screenplay), Matt Holloway (screenplay), Stan Lee (characters), Don Heck (characters), Larry Lieber (characters), Jack Kirby (characters)', 'Actors': 'Robert Downey Jr., Terrence Howard, Jeff Bridges, Gwyneth Paltrow', 'Plot': 'After being held captive in an Afghan cave, billionaire engineer Tony Stark creates a unique weaponized suit of armor to fight evil.', 'Language': 'Hungarian, Kurdish, Hindi, English, Persian, Urdu, Arabic', 'Country': 'USA', 'Awards': 'Nominated for 2 Oscars. Another 20 wins & 65 nominations.', 'Poster': 'https://m.media-amazon.com/images/M/MV5BMTczNTI2ODUwOF5BMl5BanBnXkFtZTcwMTU0NTIzMw@@._V1_SX300.jpg', 'Ratings': [{'Source': 'Internet Movie Database', 'Value': '7.9/10'}, {'Source': 'Rotten Tomatoes', 'Value': '94%'}, {'Source': 'Metacritic', 'Value': '79/100'}], 'Metascore': '79', 'imdbRating': '7.9', 'imdbVotes': '885,543', 'imdbID': 'tt0371746', 'Type': 'movie', 'DVD': '30 Sep 2008', 'BoxOffice': '$318,298,180', 'Production': 'Paramount Pictures', 'Website': 'N/A', 'Response': 'True'}\n",
      "http://www.omdbapi.com/?t=Jurassic%20Park%20III&apikey=trilogy\n",
      "{'Title': 'Jurassic Park III', 'Year': '2001', 'Rated': 'PG-13', 'Released': '18 Jul 2001', 'Runtime': '92 min', 'Genre': 'Action, Adventure, Sci-Fi, Thriller', 'Director': 'Joe Johnston', 'Writer': 'Michael Crichton (characters), Peter Buchman, Alexander Payne, Jim Taylor', 'Actors': 'Sam Neill, William H. Macy, Téa Leoni, Alessandro Nivola', 'Plot': \"A decidedly odd couple with ulterior motives convince Dr. Grant to go to Isla Sorna for a holiday, but their unexpected landing startles the island's new inhabitants.\", 'Language': 'English, Spanish', 'Country': 'USA', 'Awards': '5 wins & 15 nominations.', 'Poster': 'https://m.media-amazon.com/images/M/MV5BZDMyZGJjOGItYjJkZC00MDVlLWE0Y2YtZGIwMDExYWE3MGQ3XkEyXkFqcGdeQXVyNDYyMDk5MTU@._V1_SX300.jpg', 'Ratings': [{'Source': 'Internet Movie Database', 'Value': '5.9/10'}, {'Source': 'Rotten Tomatoes', 'Value': '49%'}, {'Source': 'Metacritic', 'Value': '42/100'}], 'Metascore': '42', 'imdbRating': '5.9', 'imdbVotes': '280,350', 'imdbID': 'tt0163025', 'Type': 'movie', 'DVD': '11 Dec 2001', 'BoxOffice': 'N/A', 'Production': 'Universal Pictures', 'Website': 'N/A', 'Response': 'True'}\n",
      "http://www.omdbapi.com/?t=Jurassic%20World&apikey=trilogy\n",
      "{'Title': 'Jurassic World', 'Year': '2015', 'Rated': 'PG-13', 'Released': '12 Jun 2015', 'Runtime': '124 min', 'Genre': 'Action, Adventure, Sci-Fi', 'Director': 'Colin Trevorrow', 'Writer': 'Rick Jaffa (screenplay by), Amanda Silver (screenplay by), Colin Trevorrow (screenplay by), Derek Connolly (screenplay by), Rick Jaffa (story by), Amanda Silver (story by), Michael Crichton (based on the characters created by)', 'Actors': \"Chris Pratt, Bryce Dallas Howard, Irrfan Khan, Vincent D'Onofrio\", 'Plot': 'A new theme park, built on the original site of Jurassic Park, creates a genetically modified hybrid dinosaur, the Indominus Rex, which escapes containment and goes on a killing spree.', 'Language': 'English', 'Country': 'USA', 'Awards': '14 wins & 57 nominations.', 'Poster': 'https://m.media-amazon.com/images/M/MV5BNzQ3OTY4NjAtNzM5OS00N2ZhLWJlOWUtYzYwZjNmOWRiMzcyXkEyXkFqcGdeQXVyMTMxODk2OTU@._V1_SX300.jpg', 'Ratings': [{'Source': 'Internet Movie Database', 'Value': '7.0/10'}, {'Source': 'Rotten Tomatoes', 'Value': '72%'}, {'Source': 'Metacritic', 'Value': '59/100'}], 'Metascore': '59', 'imdbRating': '7.0', 'imdbVotes': '549,286', 'imdbID': 'tt0369610', 'Type': 'movie', 'DVD': '20 Oct 2015', 'BoxOffice': '$528,757,749', 'Production': 'Universal Pictures', 'Website': 'N/A', 'Response': 'True'}\n",
      "http://www.omdbapi.com/?t=Kingdom%20of%20the%20Crystal%20Skull&apikey=trilogy\n",
      "{'Title': 'Indiana Jones and the Kingdom of the Crystal Skull', 'Year': '2008', 'Rated': 'PG-13', 'Released': '22 May 2008', 'Runtime': '122 min', 'Genre': 'Action, Adventure', 'Director': 'Steven Spielberg', 'Writer': 'David Koepp (screenplay), George Lucas (story), Jeff Nathanson (story), George Lucas (characters), Philip Kaufman (characters)', 'Actors': 'Harrison Ford, Cate Blanchett, Karen Allen, Shia LaBeouf', 'Plot': 'In 1957, archaeologist and adventurer Dr. Henry \"Indiana\" Jones, Jr. is called back into action and becomes entangled in a Soviet plot to uncover the secret behind mysterious artifacts known as the Crystal Skulls.', 'Language': 'English, German, Russian', 'Country': 'USA', 'Awards': 'Nominated for 1 BAFTA Film Award. Another 10 wins & 35 nominations.', 'Poster': 'https://m.media-amazon.com/images/M/MV5BMTIxNDUxNzcyMl5BMl5BanBnXkFtZTcwNTgwOTI3MQ@@._V1_SX300.jpg', 'Ratings': [{'Source': 'Internet Movie Database', 'Value': '6.1/10'}, {'Source': 'Rotten Tomatoes', 'Value': '78%'}, {'Source': 'Metacritic', 'Value': '65/100'}], 'Metascore': '65', 'imdbRating': '6.1', 'imdbVotes': '400,596', 'imdbID': 'tt0367882', 'Type': 'movie', 'DVD': '14 Oct 2008', 'BoxOffice': '$316,957,122', 'Production': 'Paramount Pictures', 'Website': 'N/A', 'Response': 'True'}\n",
      "http://www.omdbapi.com/?t=Last%20Crusade&apikey=trilogy\n",
      "{'Title': 'Indiana Jones and the Last Crusade', 'Year': '1989', 'Rated': 'PG-13', 'Released': '24 May 1989', 'Runtime': '127 min', 'Genre': 'Action, Adventure', 'Director': 'Steven Spielberg', 'Writer': 'Jeffrey Boam (screenplay), George Lucas (story), Menno Meyjes (story), George Lucas (characters), Philip Kaufman (characters)', 'Actors': 'Harrison Ford, Sean Connery, Denholm Elliott, Alison Doody', 'Plot': 'In 1938, after his father Professor Henry Jones, Sr. goes missing while pursuing the Holy Grail, Professor Henry \"Indiana\" Jones, Jr. finds himself up against Adolf Hitler\\'s Nazis again to stop them from obtaining its powers.', 'Language': 'English, German, Greek, Arabic', 'Country': 'USA', 'Awards': 'Won 1 Oscar. Another 6 wins & 20 nominations.', 'Poster': 'https://m.media-amazon.com/images/M/MV5BMjNkMzc2N2QtNjVlNS00ZTk5LTg0MTgtODY2MDAwNTMwZjBjXkEyXkFqcGdeQXVyNDk3NzU2MTQ@._V1_SX300.jpg', 'Ratings': [{'Source': 'Internet Movie Database', 'Value': '8.2/10'}, {'Source': 'Rotten Tomatoes', 'Value': '88%'}, {'Source': 'Metacritic', 'Value': '65/100'}], 'Metascore': '65', 'imdbRating': '8.2', 'imdbVotes': '647,605', 'imdbID': 'tt0097576', 'Type': 'movie', 'DVD': '21 Oct 2003', 'BoxOffice': 'N/A', 'Production': 'Paramount Pictures', 'Website': 'N/A', 'Response': 'True'}\n",
      "http://www.omdbapi.com/?t=Pirates%20of%20the%20Caribbean&apikey=trilogy\n"
     ]
    },
    {
     "name": "stdout",
     "output_type": "stream",
     "text": [
      "{'Title': 'Pirates of the Caribbean: The Curse of the Black Pearl', 'Year': '2003', 'Rated': 'PG-13', 'Released': '09 Jul 2003', 'Runtime': '143 min', 'Genre': 'Action, Adventure, Fantasy', 'Director': 'Gore Verbinski', 'Writer': 'Ted Elliott (screen story), Terry Rossio (screen story), Stuart Beattie (screen story), Jay Wolpert (screen story), Ted Elliott (screenplay), Terry Rossio (screenplay)', 'Actors': 'Johnny Depp, Geoffrey Rush, Orlando Bloom, Keira Knightley', 'Plot': 'Blacksmith Will Turner teams up with eccentric pirate \"Captain\" Jack Sparrow to save his love, the governor\\'s daughter, from Jack\\'s former pirate allies, who are now undead.', 'Language': 'English', 'Country': 'USA', 'Awards': 'Nominated for 5 Oscars. Another 36 wins & 96 nominations.', 'Poster': 'https://m.media-amazon.com/images/M/MV5BNGYyZGM5MGMtYTY2Ni00M2Y1LWIzNjQtYWUzM2VlNGVhMDNhXkEyXkFqcGdeQXVyMTMxODk2OTU@._V1_SX300.jpg', 'Ratings': [{'Source': 'Internet Movie Database', 'Value': '8.0/10'}, {'Source': 'Rotten Tomatoes', 'Value': '79%'}, {'Source': 'Metacritic', 'Value': '63/100'}], 'Metascore': '63', 'imdbRating': '8.0', 'imdbVotes': '975,347', 'imdbID': 'tt0325980', 'Type': 'movie', 'DVD': '02 Dec 2003', 'BoxOffice': '$305,343,252', 'Production': 'Buena Vista Pictures', 'Website': 'N/A', 'Response': 'True'}\n",
      "http://www.omdbapi.com/?t=Prince%20of%20Persia&apikey=trilogy\n",
      "{'Title': 'Prince of Persia: The Sands of Time', 'Year': '2010', 'Rated': 'PG-13', 'Released': '28 May 2010', 'Runtime': '116 min', 'Genre': 'Action, Fantasy', 'Director': 'Mike Newell', 'Writer': 'Boaz Yakin (screenplay), Doug Miro (screenplay), Carlo Bernard (screenplay), Jordan Mechner (screen story), Jordan Mechner (video game series \"Prince of Persia\")', 'Actors': 'Jake Gyllenhaal, Gemma Arterton, Ben Kingsley, Alfred Molina', 'Plot': 'A young fugitive Prince and Princess must stop a villain who unknowingly threatens to destroy the world with a special dagger that enables the magic sand inside to reverse time.', 'Language': 'English', 'Country': 'USA', 'Awards': '1 win & 10 nominations.', 'Poster': 'https://m.media-amazon.com/images/M/MV5BMTMwNDg0NzcyMV5BMl5BanBnXkFtZTcwNjg4MjQyMw@@._V1_SX300.jpg', 'Ratings': [{'Source': 'Internet Movie Database', 'Value': '6.6/10'}, {'Source': 'Rotten Tomatoes', 'Value': '37%'}, {'Source': 'Metacritic', 'Value': '50/100'}], 'Metascore': '50', 'imdbRating': '6.6', 'imdbVotes': '258,854', 'imdbID': 'tt0473075', 'Type': 'movie', 'DVD': '14 Sep 2010', 'BoxOffice': '$90,755,643', 'Production': 'Walt Disney Pictures', 'Website': 'N/A', 'Response': 'True'}\n",
      "http://www.omdbapi.com/?t=Raiders%20of%20the%20Lost%20Ark&apikey=trilogy\n",
      "{'Title': 'Raiders of the Lost Ark', 'Year': '1981', 'Rated': 'PG', 'Released': '12 Jun 1981', 'Runtime': '115 min', 'Genre': 'Action, Adventure', 'Director': 'Steven Spielberg', 'Writer': 'Lawrence Kasdan (screenplay by), George Lucas (story by), Philip Kaufman (story by)', 'Actors': 'Harrison Ford, Karen Allen, Paul Freeman, Ronald Lacey', 'Plot': \"In 1936, archaeologist and adventurer Indiana Jones is hired by the U.S. government to find the Ark of the Covenant before Adolf Hitler's Nazis can obtain its awesome powers.\", 'Language': 'English, German, Hebrew, Spanish, Arabic, Nepali', 'Country': 'USA', 'Awards': 'Won 4 Oscars. Another 30 wins & 23 nominations.', 'Poster': 'https://m.media-amazon.com/images/M/MV5BMjA0ODEzMTc1Nl5BMl5BanBnXkFtZTcwODM2MjAxNA@@._V1_SX300.jpg', 'Ratings': [{'Source': 'Internet Movie Database', 'Value': '8.4/10'}, {'Source': 'Rotten Tomatoes', 'Value': '95%'}, {'Source': 'Metacritic', 'Value': '85/100'}], 'Metascore': '85', 'imdbRating': '8.4', 'imdbVotes': '829,337', 'imdbID': 'tt0082971', 'Type': 'movie', 'DVD': '21 Oct 2003', 'BoxOffice': 'N/A', 'Production': 'Paramount Pictures', 'Website': 'N/A', 'Response': 'True'}\n",
      "http://www.omdbapi.com/?t=Scooby-Doo&apikey=trilogy\n",
      "{'Title': 'Scooby-Doo', 'Year': '2002', 'Rated': 'PG', 'Released': '14 Jun 2002', 'Runtime': '86 min', 'Genre': 'Adventure, Comedy, Family, Fantasy, Mystery', 'Director': 'Raja Gosnell', 'Writer': 'James Gunn (screenplay), Craig Titley (story), James Gunn (story), William Hanna (characters), Joseph Barbera (characters)', 'Actors': 'Freddie Prinze Jr., Sarah Michelle Gellar, Matthew Lillard, Linda Cardellini', 'Plot': 'After an acrimonious break up, the Mystery Inc. gang are individually brought to an island resort to investigate strange goings on.', 'Language': 'English', 'Country': 'USA, Australia', 'Awards': '5 wins & 14 nominations.', 'Poster': 'https://m.media-amazon.com/images/M/MV5BMTg4MzMzMTY0OF5BMl5BanBnXkFtZTYwNzM3MTg2._V1_SX300.jpg', 'Ratings': [{'Source': 'Internet Movie Database', 'Value': '5.0/10'}, {'Source': 'Rotten Tomatoes', 'Value': '30%'}, {'Source': 'Metacritic', 'Value': '35/100'}], 'Metascore': '35', 'imdbRating': '5.0', 'imdbVotes': '90,219', 'imdbID': 'tt0267913', 'Type': 'movie', 'DVD': '08 Oct 2002', 'BoxOffice': '$153,300,000', 'Production': 'Warner Bros. Pictures', 'Website': 'N/A', 'Response': 'True'}\n",
      "http://www.omdbapi.com/?t=Speed%20Racer&apikey=trilogy\n",
      "{'Title': 'Speed Racer', 'Year': '2008', 'Rated': 'PG', 'Released': '09 May 2008', 'Runtime': '135 min', 'Genre': 'Action, Adventure, Comedy, Drama, Family, Sci-Fi, Sport', 'Director': 'Lana Wachowski, Lilly Wachowski', 'Writer': 'Lilly Wachowski, Lana Wachowski, Tatsuo Yoshida (animated series \"Speed Racer\")', 'Actors': 'Emile Hirsch, Nicholas Elia, Susan Sarandon, Melissa Holroyd', 'Plot': 'A young driver, Speed Racer, aspires to be champion of the racing world with the help of his family and his high-tech Mach 5 automobile.', 'Language': 'English', 'Country': 'USA, Australia, Germany', 'Awards': '13 nominations.', 'Poster': 'https://m.media-amazon.com/images/M/MV5BMWU4Y2RhYzMtYzIxZC00NmRlLTk0OTctNDg1NTg5Yjk4YjQzXkEyXkFqcGdeQXVyMTQxNzMzNDI@._V1_SX300.jpg', 'Ratings': [{'Source': 'Internet Movie Database', 'Value': '6.0/10'}, {'Source': 'Rotten Tomatoes', 'Value': '40%'}, {'Source': 'Metacritic', 'Value': '37/100'}], 'Metascore': '37', 'imdbRating': '6.0', 'imdbVotes': '66,024', 'imdbID': 'tt0811080', 'Type': 'movie', 'DVD': '16 Sep 2008', 'BoxOffice': '$43,929,341', 'Production': 'Warner Bros. Pictures', 'Website': 'N/A', 'Response': 'True'}\n",
      "http://www.omdbapi.com/?t=Spider-Man&apikey=trilogy\n",
      "{'Title': 'Spider-Man', 'Year': '2002', 'Rated': 'PG-13', 'Released': '03 May 2002', 'Runtime': '121 min', 'Genre': 'Action, Adventure, Sci-Fi', 'Director': 'Sam Raimi', 'Writer': 'Stan Lee (Marvel comic book), Steve Ditko (Marvel comic book), David Koepp (screenplay)', 'Actors': 'Tobey Maguire, Willem Dafoe, Kirsten Dunst, James Franco', 'Plot': 'When bitten by a genetically modified spider, a nerdy, shy, and awkward high school student gains spider-like abilities that he eventually must use to fight evil as a superhero after tragedy befalls his family.', 'Language': 'English', 'Country': 'USA', 'Awards': 'Nominated for 2 Oscars. Another 16 wins & 58 nominations.', 'Poster': 'https://m.media-amazon.com/images/M/MV5BZDEyN2NhMjgtMjdhNi00MmNlLWE5YTgtZGE4MzNjMTRlMGEwXkEyXkFqcGdeQXVyNDUyOTg3Njg@._V1_SX300.jpg', 'Ratings': [{'Source': 'Internet Movie Database', 'Value': '7.3/10'}, {'Source': 'Rotten Tomatoes', 'Value': '90%'}, {'Source': 'Metacritic', 'Value': '73/100'}], 'Metascore': '73', 'imdbRating': '7.3', 'imdbVotes': '652,279', 'imdbID': 'tt0145487', 'Type': 'movie', 'DVD': '01 Nov 2002', 'BoxOffice': '$403,706,375', 'Production': 'Columbia Pictures', 'Website': 'N/A', 'Response': 'True'}\n",
      "http://www.omdbapi.com/?t=Spider-Man%202&apikey=trilogy\n",
      "{'Title': 'Spider-Man 2', 'Year': '2004', 'Rated': 'PG-13', 'Released': '30 Jun 2004', 'Runtime': '127 min', 'Genre': 'Action, Adventure, Sci-Fi', 'Director': 'Sam Raimi', 'Writer': 'Stan Lee (comic book), Steve Ditko (comic book), Alfred Gough (screen story), Miles Millar (screen story), Michael Chabon (screen story), Alvin Sargent (screenplay)', 'Actors': 'Tobey Maguire, Kirsten Dunst, James Franco, Alfred Molina', 'Plot': 'Peter Parker is beset with troubles in his failing personal life as he battles a brilliant scientist named Doctor Otto Octavius.', 'Language': 'English, Russian, Chinese', 'Country': 'USA', 'Awards': 'Won 1 Oscar. Another 23 wins & 59 nominations.', 'Poster': 'https://m.media-amazon.com/images/M/MV5BMzY2ODk4NmUtOTVmNi00ZTdkLTlmOWYtMmE2OWVhNTU2OTVkXkEyXkFqcGdeQXVyMTQxNzMzNDI@._V1_SX300.jpg', 'Ratings': [{'Source': 'Internet Movie Database', 'Value': '7.3/10'}, {'Source': 'Rotten Tomatoes', 'Value': '93%'}, {'Source': 'Metacritic', 'Value': '83/100'}], 'Metascore': '83', 'imdbRating': '7.3', 'imdbVotes': '511,787', 'imdbID': 'tt0316654', 'Type': 'movie', 'DVD': '30 Nov 2004', 'BoxOffice': '$373,377,893', 'Production': 'Sony Pictures', 'Website': 'N/A', 'Response': 'True'}\n",
      "http://www.omdbapi.com/?t=Star%20Wars&apikey=trilogy\n"
     ]
    },
    {
     "name": "stdout",
     "output_type": "stream",
     "text": [
      "{'Title': 'Star Wars: Episode IV - A New Hope', 'Year': '1977', 'Rated': 'PG', 'Released': '25 May 1977', 'Runtime': '121 min', 'Genre': 'Action, Adventure, Fantasy, Sci-Fi', 'Director': 'George Lucas', 'Writer': 'George Lucas', 'Actors': 'Mark Hamill, Harrison Ford, Carrie Fisher, Peter Cushing', 'Plot': \"Luke Skywalker joins forces with a Jedi Knight, a cocky pilot, a Wookiee and two droids to save the galaxy from the Empire's world-destroying battle station, while also attempting to rescue Princess Leia from the mysterious Darth Vader.\", 'Language': 'English', 'Country': 'USA', 'Awards': 'Won 6 Oscars. Another 50 wins & 28 nominations.', 'Poster': 'https://m.media-amazon.com/images/M/MV5BNzVlY2MwMjktM2E4OS00Y2Y3LWE3ZjctYzhkZGM3YzA1ZWM2XkEyXkFqcGdeQXVyNzkwMjQ5NzM@._V1_SX300.jpg', 'Ratings': [{'Source': 'Internet Movie Database', 'Value': '8.6/10'}, {'Source': 'Rotten Tomatoes', 'Value': '93%'}, {'Source': 'Metacritic', 'Value': '90/100'}], 'Metascore': '90', 'imdbRating': '8.6', 'imdbVotes': '1,143,909', 'imdbID': 'tt0076759', 'Type': 'movie', 'DVD': '21 Sep 2004', 'BoxOffice': 'N/A', 'Production': '20th Century Fox', 'Website': 'N/A', 'Response': 'True'}\n",
      "http://www.omdbapi.com/?t=Star%20Wars%20Rogue%20One&apikey=trilogy\n",
      "{'Title': 'Zane Reviews Star Wars Rogue One', 'Year': '2017', 'Rated': 'N/A', 'Released': '12 Jan 2017', 'Runtime': '4 min', 'Genre': 'Short', 'Director': 'N/A', 'Writer': 'N/A', 'Actors': 'Zane Alexander', 'Plot': 'N/A', 'Language': 'English', 'Country': 'USA', 'Awards': 'N/A', 'Poster': 'https://m.media-amazon.com/images/M/MV5BODQ5NzBiZmYtNjFhMC00OTUxLTgyNDUtODU4ZGU4MmQ2YWU1L2ltYWdlXkEyXkFqcGdeQXVyNzEyNTQ4OTQ@._V1_SX300.jpg', 'Ratings': [], 'Metascore': 'N/A', 'imdbRating': 'N/A', 'imdbVotes': 'N/A', 'imdbID': 'tt6421084', 'Type': 'movie', 'DVD': 'N/A', 'BoxOffice': 'N/A', 'Production': 'N/A', 'Website': 'N/A', 'Response': 'True'}\n",
      "http://www.omdbapi.com/?t=Superman&apikey=trilogy\n",
      "{'Title': 'Superman', 'Year': '1978', 'Rated': 'PG', 'Released': '15 Dec 1978', 'Runtime': '143 min', 'Genre': 'Action, Adventure, Drama, Sci-Fi', 'Director': 'Richard Donner', 'Writer': 'Jerry Siegel (character created by: Superman), Joe Shuster (character created by: Superman), Mario Puzo (story), Mario Puzo (screenplay), David Newman (screenplay), Leslie Newman (screenplay), Robert Benton (screenplay)', 'Actors': 'Marlon Brando, Gene Hackman, Christopher Reeve, Ned Beatty', 'Plot': \"An alien orphan is sent from his dying planet to Earth, where he grows up to become his adoptive home's first and greatest superhero.\", 'Language': 'English', 'Country': 'USA, UK, Canada, Switzerland', 'Awards': 'Nominated for 3 Oscars. Another 17 wins & 18 nominations.', 'Poster': 'https://m.media-amazon.com/images/M/MV5BMzA0YWMwMTUtMTVhNC00NjRkLWE2ZTgtOWEzNjJhYzNiMTlkXkEyXkFqcGdeQXVyNjc1NTYyMjg@._V1_SX300.jpg', 'Ratings': [{'Source': 'Internet Movie Database', 'Value': '7.3/10'}, {'Source': 'Rotten Tomatoes', 'Value': '94%'}, {'Source': 'Metacritic', 'Value': '80/100'}], 'Metascore': '80', 'imdbRating': '7.3', 'imdbVotes': '150,554', 'imdbID': 'tt0078346', 'Type': 'movie', 'DVD': '01 May 2001', 'BoxOffice': 'N/A', 'Production': 'Warner Bros. Pictures', 'Website': 'N/A', 'Response': 'True'}\n",
      "http://www.omdbapi.com/?t=Teenage%20Mutant%20Ninja%20Turtles&apikey=trilogy\n",
      "{'Title': 'Teenage Mutant Ninja Turtles', 'Year': '2014', 'Rated': 'PG-13', 'Released': '08 Aug 2014', 'Runtime': '101 min', 'Genre': 'Action, Adventure, Comedy, Sci-Fi', 'Director': 'Jonathan Liebesman', 'Writer': 'Josh Appelbaum, André Nemec, Evan Daugherty, Peter Laird (based on the Teenage Mutant Ninja Turtles characters created by), Kevin Eastman (based on the Teenage Mutant Ninja Turtles characters created by)', 'Actors': 'Megan Fox, Will Arnett, William Fichtner, Alan Ritchson', 'Plot': 'When a kingpin threatens New York City, a group of mutated turtle warriors must emerge from the shadows to protect their home.', 'Language': 'English, Japanese', 'Country': 'USA', 'Awards': '1 win & 10 nominations.', 'Poster': 'https://m.media-amazon.com/images/M/MV5BNjUzODQ5MDY5NV5BMl5BanBnXkFtZTgwOTc1NzcyMjE@._V1_SX300.jpg', 'Ratings': [{'Source': 'Internet Movie Database', 'Value': '5.8/10'}, {'Source': 'Rotten Tomatoes', 'Value': '22%'}, {'Source': 'Metacritic', 'Value': '31/100'}], 'Metascore': '31', 'imdbRating': '5.8', 'imdbVotes': '194,261', 'imdbID': 'tt1291150', 'Type': 'movie', 'DVD': '16 Dec 2014', 'BoxOffice': '$163,911,409', 'Production': 'Paramount Pictures', 'Website': 'N/A', 'Response': 'True'}\n",
      "http://www.omdbapi.com/?t=Temple%20of%20Doom&apikey=trilogy\n",
      "{'Title': 'Indiana Jones and the Temple of Doom', 'Year': '1984', 'Rated': 'PG', 'Released': '23 May 1984', 'Runtime': '118 min', 'Genre': 'Action, Adventure', 'Director': 'Steven Spielberg', 'Writer': 'Willard Huyck (screenplay by), Gloria Katz (screenplay by), George Lucas (story by)', 'Actors': 'Harrison Ford, Kate Capshaw, Ke Huy Quan, Amrish Puri', 'Plot': 'In 1935, Indiana Jones arrives in India, still part of the British Empire, and is asked to find a mystical stone. He then stumbles upon a secret cult committing enslavement and human sacrifices in the catacombs of an ancient palace.', 'Language': 'English, Sinhalese, Hindi', 'Country': 'USA', 'Awards': 'Won 1 Oscar. Another 8 wins & 21 nominations.', 'Poster': 'https://m.media-amazon.com/images/M/MV5BMGI1NTk2ZWMtMmI0YS00Yzg0LTljMzgtZTg4YjkyY2E5Zjc0XkEyXkFqcGdeQXVyNzkwMjQ5NzM@._V1_SX300.jpg', 'Ratings': [{'Source': 'Internet Movie Database', 'Value': '7.6/10'}, {'Source': 'Rotten Tomatoes', 'Value': '85%'}, {'Source': 'Metacritic', 'Value': '57/100'}], 'Metascore': '57', 'imdbRating': '7.6', 'imdbVotes': '415,599', 'imdbID': 'tt0087469', 'Type': 'movie', 'DVD': '21 Oct 2003', 'BoxOffice': 'N/A', 'Production': 'Paramount Pictures', 'Website': 'N/A', 'Response': 'True'}\n",
      "http://www.omdbapi.com/?t=The%20Hobbit&apikey=trilogy\n",
      "{'Title': 'The Hobbit', 'Year': '1977', 'Rated': 'TV-PG', 'Released': '27 Nov 1977', 'Runtime': '90 min', 'Genre': 'Animation, Adventure, Family, Fantasy, Musical', 'Director': 'Jules Bass, Arthur Rankin Jr.', 'Writer': 'J.R.R. Tolkien (novel), Romeo Muller (adapted for the screen by)', 'Actors': 'Orson Bean, Richard Boone, Hans Conried, John Huston', 'Plot': 'A homebody hobbit in Middle Earth gets talked into joining a quest with a group of dwarves to recover their treasure from a dragon.', 'Language': 'English', 'Country': 'USA, Japan', 'Awards': '1 win & 2 nominations.', 'Poster': 'https://m.media-amazon.com/images/M/MV5BNmNjZjEyZTgtM2M4Mi00OTQwLTliMTctYjNhOGNkNmFjZDM4XkEyXkFqcGdeQXVyNTc4Njg5MjA@._V1_SX300.jpg', 'Ratings': [{'Source': 'Internet Movie Database', 'Value': '6.8/10'}, {'Source': 'Rotten Tomatoes', 'Value': '69%'}], 'Metascore': 'N/A', 'imdbRating': '6.8', 'imdbVotes': '11,784', 'imdbID': 'tt0077687', 'Type': 'movie', 'DVD': '11 Sep 2001', 'BoxOffice': 'N/A', 'Production': 'Warner Bros. Pictures', 'Website': 'N/A', 'Response': 'True'}\n",
      "http://www.omdbapi.com/?t=The%20LEGO%20Movie&apikey=trilogy\n",
      "{'Title': 'The Lego Movie', 'Year': '2014', 'Rated': 'PG', 'Released': '07 Feb 2014', 'Runtime': '100 min', 'Genre': 'Animation, Action, Adventure, Comedy, Family, Fantasy', 'Director': 'Phil Lord, Christopher Miller', 'Writer': 'Phil Lord (screenplay), Christopher Miller (screenplay), Dan Hageman (story), Kevin Hageman (story), Phil Lord (story), Christopher Miller (story), Ole Kirk Christiansen (based on LEGO Construction Toys created by), Godtfred Kirk Christiansen (based on LEGO Construction Toys created by), Jens Nygaard Knudsen (based on LEGO Construction Toys created by), Peter Laird (characters created by: Teenage Mutant Ninja Turtles), Kevin Eastman (characters created by: Teenage Mutant Ninja Turtles)', 'Actors': 'Will Arnett, Elizabeth Banks, Craig Berry, Alison Brie', 'Plot': 'An ordinary LEGO construction worker, thought to be the prophesied as \"special\", is recruited to join a quest to stop an evil tyrant from gluing the LEGO universe into eternal stasis.', 'Language': 'English, Turkish', 'Country': 'USA, Denmark, Australia', 'Awards': 'Nominated for 1 Oscar. Another 73 wins & 61 nominations.', 'Poster': 'https://m.media-amazon.com/images/M/MV5BMTg4MDk1ODExN15BMl5BanBnXkFtZTgwNzIyNjg3MDE@._V1_SX300.jpg', 'Ratings': [{'Source': 'Internet Movie Database', 'Value': '7.8/10'}, {'Source': 'Rotten Tomatoes', 'Value': '96%'}, {'Source': 'Metacritic', 'Value': '83/100'}], 'Metascore': '83', 'imdbRating': '7.8', 'imdbVotes': '309,476', 'imdbID': 'tt1490017', 'Type': 'movie', 'DVD': '17 Jun 2014', 'BoxOffice': '$244,870,202', 'Production': 'Warner Bros. Pictures', 'Website': 'N/A', 'Response': 'True'}\n",
      "http://www.omdbapi.com/?t=The%20Lord%20of%20the%20Rings&apikey=trilogy\n"
     ]
    },
    {
     "name": "stdout",
     "output_type": "stream",
     "text": [
      "{'Title': 'The Lord of the Rings', 'Year': '1978', 'Rated': 'PG', 'Released': '15 Nov 1978', 'Runtime': '132 min', 'Genre': 'Animation, Adventure, Fantasy', 'Director': 'Ralph Bakshi', 'Writer': 'Chris Conkling (screenplay), Peter S. Beagle (screenplay), J.R.R. Tolkien (novels)', 'Actors': 'Christopher Guard, William Squire, Michael Scholes, John Hurt', 'Plot': \"The Fellowship of the Ring embark on a journey to destroy the One Ring and end Sauron's reign over Middle-earth.\", 'Language': 'English, Sindarin', 'Country': 'USA, UK, Spain', 'Awards': 'Nominated for 1 Golden Globe. Another 1 win & 2 nominations.', 'Poster': 'https://m.media-amazon.com/images/M/MV5BOGMyNWJhZmYtNGQxYi00Y2ZjLWJmNjktNTgzZWJjOTg4YjM3L2ltYWdlXkEyXkFqcGdeQXVyNTAyODkwOQ@@._V1_SX300.jpg', 'Ratings': [{'Source': 'Internet Movie Database', 'Value': '6.2/10'}, {'Source': 'Rotten Tomatoes', 'Value': '52%'}], 'Metascore': 'N/A', 'imdbRating': '6.2', 'imdbVotes': '27,931', 'imdbID': 'tt0077869', 'Type': 'movie', 'DVD': '11 Sep 2001', 'BoxOffice': 'N/A', 'Production': 'WARNER BROTHERS PICTURES', 'Website': 'N/A', 'Response': 'True'}\n",
      "http://www.omdbapi.com/?t=The%20Simpsons%20Movie&apikey=trilogy\n",
      "{'Title': 'The Simpsons Movie', 'Year': '2007', 'Rated': 'PG-13', 'Released': '27 Jul 2007', 'Runtime': '87 min', 'Genre': 'Animation, Adventure, Comedy', 'Director': 'David Silverman', 'Writer': 'James L. Brooks (screenplay), Matt Groening (screenplay), Al Jean (screenplay), Ian Maxtone-Graham (screenplay), George Meyer (screenplay), David Mirkin (screenplay), Mike Reiss (screenplay), Mike Scully (screenplay), Matt Selman (screenplay), John Swartzwelder (screenplay), Jon Vitti (screenplay), Joel H. Cohen (consultant writer), John Frink (consultant writer), Tim Long (consultant writer), Michael Price (consultant writer)', 'Actors': 'Dan Castellaneta, Julie Kavner, Nancy Cartwright, Yeardley Smith', 'Plot': \"After Homer accidentally pollutes the town's water supply, Springfield is encased in a gigantic dome by the EPA and the family are declared fugitives.\", 'Language': 'English', 'Country': 'USA', 'Awards': 'Nominated for 1 Golden Globe. Another 5 wins & 33 nominations.', 'Poster': 'https://m.media-amazon.com/images/M/MV5BMTgxMDczMTA5N15BMl5BanBnXkFtZTcwMzk1MzMzMw@@._V1_SX300.jpg', 'Ratings': [{'Source': 'Internet Movie Database', 'Value': '7.3/10'}, {'Source': 'Rotten Tomatoes', 'Value': '88%'}, {'Source': 'Metacritic', 'Value': '80/100'}], 'Metascore': '80', 'imdbRating': '7.3', 'imdbVotes': '296,841', 'imdbID': 'tt0462538', 'Type': 'movie', 'DVD': '18 Dec 2007', 'BoxOffice': '$183,100,000', 'Production': '20th Century Fox', 'Website': 'N/A', 'Response': 'True'}\n",
      "http://www.omdbapi.com/?t=Toy%20Story&apikey=trilogy\n",
      "{'Title': 'Toy Story', 'Year': '1995', 'Rated': 'G', 'Released': '22 Nov 1995', 'Runtime': '81 min', 'Genre': 'Animation, Adventure, Comedy, Family, Fantasy', 'Director': 'John Lasseter', 'Writer': 'John Lasseter (original story by), Pete Docter (original story by), Andrew Stanton (original story by), Joe Ranft (original story by), Joss Whedon (screenplay by), Andrew Stanton (screenplay by), Joel Cohen (screenplay by), Alec Sokolow (screenplay by)', 'Actors': 'Tom Hanks, Tim Allen, Don Rickles, Jim Varney', 'Plot': \"A cowboy doll is profoundly threatened and jealous when a new spaceman figure supplants him as top toy in a boy's room.\", 'Language': 'English', 'Country': 'USA', 'Awards': 'Nominated for 3 Oscars. Another 23 wins & 17 nominations.', 'Poster': 'https://m.media-amazon.com/images/M/MV5BMDU2ZWJlMjktMTRhMy00ZTA5LWEzNDgtYmNmZTEwZTViZWJkXkEyXkFqcGdeQXVyNDQ2OTk4MzI@._V1_SX300.jpg', 'Ratings': [{'Source': 'Internet Movie Database', 'Value': '8.3/10'}, {'Source': 'Rotten Tomatoes', 'Value': '100%'}, {'Source': 'Metacritic', 'Value': '95/100'}], 'Metascore': '95', 'imdbRating': '8.3', 'imdbVotes': '820,774', 'imdbID': 'tt0114709', 'Type': 'movie', 'DVD': '20 Mar 2001', 'BoxOffice': 'N/A', 'Production': 'Buena Vista', 'Website': 'N/A', 'Response': 'True'}\n",
      "http://www.omdbapi.com/?t=X-men&apikey=trilogy\n",
      "{'Title': 'X-Men', 'Year': '2000', 'Rated': 'PG-13', 'Released': '14 Jul 2000', 'Runtime': '104 min', 'Genre': 'Action, Adventure, Sci-Fi', 'Director': 'Bryan Singer', 'Writer': 'Tom DeSanto (story), Bryan Singer (story), David Hayter (screenplay)', 'Actors': 'Hugh Jackman, Patrick Stewart, Ian McKellen, Famke Janssen', 'Plot': 'In a world where mutants (evolved super-powered humans) exist and are discriminated against, two groups form for an inevitable clash: the supremacist Brotherhood, and the pacifist X-Men.', 'Language': 'English', 'Country': 'USA', 'Awards': '13 wins & 26 nominations.', 'Poster': 'https://m.media-amazon.com/images/M/MV5BZmIyMDk5NGYtYjQ5NS00ZWQxLTg2YzQtZDk1ZmM4ZDBlN2E3XkEyXkFqcGdeQXVyMTQxNzMzNDI@._V1_SX300.jpg', 'Ratings': [{'Source': 'Internet Movie Database', 'Value': '7.4/10'}, {'Source': 'Rotten Tomatoes', 'Value': '81%'}, {'Source': 'Metacritic', 'Value': '64/100'}], 'Metascore': '64', 'imdbRating': '7.4', 'imdbVotes': '545,484', 'imdbID': 'tt0120903', 'Type': 'movie', 'DVD': '21 Nov 2000', 'BoxOffice': '$156,164,829', 'Production': '20th Century Fox', 'Website': 'N/A', 'Response': 'True'}\n"
     ]
    }
   ],
   "source": [
    "# Performing a GET request similar to the one we executed\n",
    "# earlier\n",
    "\n",
    "movies = ['Angry Birds', 'Avengers', 'Batman', 'Cars', 'Disney Princess', 'Ghostbusters'\\\n",
    "          ,'Guardians of the Galaxy','Harry Potter', 'Indiana Jones', 'Iron Man', 'Jurassic Park III'\\\n",
    "          ,'Jurassic World','Kingdom of the Crystal Skull', 'Last Crusade'\\\n",
    "          ,'Pirates of the Caribbean','Prince of Persia', 'Raiders of the Lost Ark', 'Scooby-Doo', 'Speed Racer'\\\n",
    "          ,'Spider-Man', 'Spider-Man 2', 'Star Wars', \\\n",
    "          'Star Wars Rogue One', 'Superman', 'Teenage Mutant Ninja Turtles',\n",
    "         'Temple of Doom', 'The Hobbit', 'The LEGO Movie', 'The Lord of the Rings', 'The Simpsons Movie',\n",
    "         'Toy Story', 'X-men']\n",
    "responses = []\n",
    "box_resp = []\n",
    "\n",
    "for movie in movies:\n",
    "    response = requests.get(url + movie + api_key)\n",
    "    \n",
    "# Prevent getting locked out by slowing the timing of the requests as well as testing if the BoxOffice value is there\n",
    "    if response.status_code == 200:\n",
    "        print(response.url)\n",
    "        time.sleep(1.1)\n",
    "        response_rj = response.json()\n",
    "        print(response_rj)\n",
    "        box_resp.append(response_rj['BoxOffice'])\n",
    "        \n",
    "    else:\n",
    "        print(\"Box Office Not Available. Skipped ...\")\n"
   ]
  },
  {
   "cell_type": "code",
   "execution_count": 5,
   "metadata": {},
   "outputs": [
    {
     "data": {
      "text/plain": [
       "['$107,506,776',\n",
       " '$623,279,547',\n",
       " 'N/A',\n",
       " '$244,052,771',\n",
       " 'N/A',\n",
       " 'N/A',\n",
       " '$270,592,504',\n",
       " '$381,000,185',\n",
       " 'N/A',\n",
       " '$318,298,180',\n",
       " 'N/A',\n",
       " '$528,757,749',\n",
       " '$316,957,122',\n",
       " 'N/A',\n",
       " '$305,343,252',\n",
       " '$90,755,643',\n",
       " 'N/A',\n",
       " '$153,300,000',\n",
       " '$43,929,341',\n",
       " '$403,706,375',\n",
       " '$373,377,893',\n",
       " 'N/A',\n",
       " 'N/A',\n",
       " 'N/A',\n",
       " '$163,911,409',\n",
       " 'N/A',\n",
       " 'N/A',\n",
       " '$244,870,202',\n",
       " 'N/A',\n",
       " '$183,100,000',\n",
       " 'N/A',\n",
       " '$156,164,829']"
      ]
     },
     "execution_count": 5,
     "metadata": {},
     "output_type": "execute_result"
    }
   ],
   "source": [
    "box_resp"
   ]
  },
  {
   "cell_type": "code",
   "execution_count": 6,
   "metadata": {},
   "outputs": [
    {
     "data": {
      "text/html": [
       "<div>\n",
       "<style scoped>\n",
       "    .dataframe tbody tr th:only-of-type {\n",
       "        vertical-align: middle;\n",
       "    }\n",
       "\n",
       "    .dataframe tbody tr th {\n",
       "        vertical-align: top;\n",
       "    }\n",
       "\n",
       "    .dataframe thead th {\n",
       "        text-align: right;\n",
       "    }\n",
       "</style>\n",
       "<table border=\"1\" class=\"dataframe\">\n",
       "  <thead>\n",
       "    <tr style=\"text-align: right;\">\n",
       "      <th></th>\n",
       "      <th>Movies</th>\n",
       "      <th>Box Office</th>\n",
       "    </tr>\n",
       "  </thead>\n",
       "  <tbody>\n",
       "    <tr>\n",
       "      <td>0</td>\n",
       "      <td>Angry Birds</td>\n",
       "      <td>$107,506,776</td>\n",
       "    </tr>\n",
       "    <tr>\n",
       "      <td>1</td>\n",
       "      <td>Avengers</td>\n",
       "      <td>$623,279,547</td>\n",
       "    </tr>\n",
       "    <tr>\n",
       "      <td>2</td>\n",
       "      <td>Batman</td>\n",
       "      <td>N/A</td>\n",
       "    </tr>\n",
       "    <tr>\n",
       "      <td>3</td>\n",
       "      <td>Cars</td>\n",
       "      <td>$244,052,771</td>\n",
       "    </tr>\n",
       "    <tr>\n",
       "      <td>4</td>\n",
       "      <td>Disney Princess</td>\n",
       "      <td>N/A</td>\n",
       "    </tr>\n",
       "    <tr>\n",
       "      <td>5</td>\n",
       "      <td>Ghostbusters</td>\n",
       "      <td>N/A</td>\n",
       "    </tr>\n",
       "    <tr>\n",
       "      <td>6</td>\n",
       "      <td>Guardians of the Galaxy</td>\n",
       "      <td>$270,592,504</td>\n",
       "    </tr>\n",
       "    <tr>\n",
       "      <td>7</td>\n",
       "      <td>Harry Potter</td>\n",
       "      <td>$381,000,185</td>\n",
       "    </tr>\n",
       "    <tr>\n",
       "      <td>8</td>\n",
       "      <td>Indiana Jones</td>\n",
       "      <td>N/A</td>\n",
       "    </tr>\n",
       "    <tr>\n",
       "      <td>9</td>\n",
       "      <td>Iron Man</td>\n",
       "      <td>$318,298,180</td>\n",
       "    </tr>\n",
       "    <tr>\n",
       "      <td>10</td>\n",
       "      <td>Jurassic Park III</td>\n",
       "      <td>N/A</td>\n",
       "    </tr>\n",
       "    <tr>\n",
       "      <td>11</td>\n",
       "      <td>Jurassic World</td>\n",
       "      <td>$528,757,749</td>\n",
       "    </tr>\n",
       "    <tr>\n",
       "      <td>12</td>\n",
       "      <td>Kingdom of the Crystal Skull</td>\n",
       "      <td>$316,957,122</td>\n",
       "    </tr>\n",
       "    <tr>\n",
       "      <td>13</td>\n",
       "      <td>Last Crusade</td>\n",
       "      <td>N/A</td>\n",
       "    </tr>\n",
       "    <tr>\n",
       "      <td>14</td>\n",
       "      <td>Pirates of the Caribbean</td>\n",
       "      <td>$305,343,252</td>\n",
       "    </tr>\n",
       "    <tr>\n",
       "      <td>15</td>\n",
       "      <td>Prince of Persia</td>\n",
       "      <td>$90,755,643</td>\n",
       "    </tr>\n",
       "    <tr>\n",
       "      <td>16</td>\n",
       "      <td>Raiders of the Lost Ark</td>\n",
       "      <td>N/A</td>\n",
       "    </tr>\n",
       "    <tr>\n",
       "      <td>17</td>\n",
       "      <td>Scooby-Doo</td>\n",
       "      <td>$153,300,000</td>\n",
       "    </tr>\n",
       "    <tr>\n",
       "      <td>18</td>\n",
       "      <td>Speed Racer</td>\n",
       "      <td>$43,929,341</td>\n",
       "    </tr>\n",
       "    <tr>\n",
       "      <td>19</td>\n",
       "      <td>Spider-Man</td>\n",
       "      <td>$403,706,375</td>\n",
       "    </tr>\n",
       "    <tr>\n",
       "      <td>20</td>\n",
       "      <td>Spider-Man 2</td>\n",
       "      <td>$373,377,893</td>\n",
       "    </tr>\n",
       "    <tr>\n",
       "      <td>21</td>\n",
       "      <td>Star Wars</td>\n",
       "      <td>N/A</td>\n",
       "    </tr>\n",
       "    <tr>\n",
       "      <td>22</td>\n",
       "      <td>Star Wars Rogue One</td>\n",
       "      <td>N/A</td>\n",
       "    </tr>\n",
       "    <tr>\n",
       "      <td>23</td>\n",
       "      <td>Superman</td>\n",
       "      <td>N/A</td>\n",
       "    </tr>\n",
       "    <tr>\n",
       "      <td>24</td>\n",
       "      <td>Teenage Mutant Ninja Turtles</td>\n",
       "      <td>$163,911,409</td>\n",
       "    </tr>\n",
       "    <tr>\n",
       "      <td>25</td>\n",
       "      <td>Temple of Doom</td>\n",
       "      <td>N/A</td>\n",
       "    </tr>\n",
       "    <tr>\n",
       "      <td>26</td>\n",
       "      <td>The Hobbit</td>\n",
       "      <td>N/A</td>\n",
       "    </tr>\n",
       "    <tr>\n",
       "      <td>27</td>\n",
       "      <td>The LEGO Movie</td>\n",
       "      <td>$244,870,202</td>\n",
       "    </tr>\n",
       "    <tr>\n",
       "      <td>28</td>\n",
       "      <td>The Lord of the Rings</td>\n",
       "      <td>N/A</td>\n",
       "    </tr>\n",
       "    <tr>\n",
       "      <td>29</td>\n",
       "      <td>The Simpsons Movie</td>\n",
       "      <td>$183,100,000</td>\n",
       "    </tr>\n",
       "    <tr>\n",
       "      <td>30</td>\n",
       "      <td>Toy Story</td>\n",
       "      <td>N/A</td>\n",
       "    </tr>\n",
       "    <tr>\n",
       "      <td>31</td>\n",
       "      <td>X-men</td>\n",
       "      <td>$156,164,829</td>\n",
       "    </tr>\n",
       "  </tbody>\n",
       "</table>\n",
       "</div>"
      ],
      "text/plain": [
       "                          Movies    Box Office\n",
       "0                    Angry Birds  $107,506,776\n",
       "1                       Avengers  $623,279,547\n",
       "2                         Batman           N/A\n",
       "3                           Cars  $244,052,771\n",
       "4                Disney Princess           N/A\n",
       "5                   Ghostbusters           N/A\n",
       "6        Guardians of the Galaxy  $270,592,504\n",
       "7                   Harry Potter  $381,000,185\n",
       "8                  Indiana Jones           N/A\n",
       "9                       Iron Man  $318,298,180\n",
       "10             Jurassic Park III           N/A\n",
       "11                Jurassic World  $528,757,749\n",
       "12  Kingdom of the Crystal Skull  $316,957,122\n",
       "13                  Last Crusade           N/A\n",
       "14      Pirates of the Caribbean  $305,343,252\n",
       "15              Prince of Persia   $90,755,643\n",
       "16       Raiders of the Lost Ark           N/A\n",
       "17                    Scooby-Doo  $153,300,000\n",
       "18                   Speed Racer   $43,929,341\n",
       "19                    Spider-Man  $403,706,375\n",
       "20                  Spider-Man 2  $373,377,893\n",
       "21                     Star Wars           N/A\n",
       "22           Star Wars Rogue One           N/A\n",
       "23                      Superman           N/A\n",
       "24  Teenage Mutant Ninja Turtles  $163,911,409\n",
       "25                Temple of Doom           N/A\n",
       "26                    The Hobbit           N/A\n",
       "27                The LEGO Movie  $244,870,202\n",
       "28         The Lord of the Rings           N/A\n",
       "29            The Simpsons Movie  $183,100,000\n",
       "30                     Toy Story           N/A\n",
       "31                         X-men  $156,164,829"
      ]
     },
     "execution_count": 6,
     "metadata": {},
     "output_type": "execute_result"
    }
   ],
   "source": [
    "its_cool = pd.DataFrame(movies, box_resp)\n",
    "its_cool.reset_index()\n",
    "its_rad = pd.DataFrame(list(zip(movies, box_resp)), columns=['Movies','Box Office'])\n",
    "its_rad"
   ]
  },
  {
   "cell_type": "code",
   "execution_count": 7,
   "metadata": {},
   "outputs": [],
   "source": [
    "#create and engine to start putting this in SQL database\n",
    "#Note: will not work unless PostGres has a database added with the name legomovies_db\n",
    "rds_connection_string = \"postgres:postgres@localhost:5432/legomovies_db\"\n",
    "engine = create_engine(f'postgresql://{rds_connection_string}')"
   ]
  },
  {
   "cell_type": "code",
   "execution_count": 8,
   "metadata": {},
   "outputs": [
    {
     "data": {
      "text/plain": [
       "['lego_sets', 'lego_themes', 'movie_name']"
      ]
     },
     "execution_count": 8,
     "metadata": {},
     "output_type": "execute_result"
    }
   ],
   "source": [
    "engine.table_names()"
   ]
  },
  {
   "cell_type": "code",
   "execution_count": 9,
   "metadata": {},
   "outputs": [],
   "source": [
    "#creates the movie list for the database\n",
    "its_rad.to_sql(name='movie_name', con=engine, if_exists='append', index=False)"
   ]
  },
  {
   "cell_type": "code",
   "execution_count": 10,
   "metadata": {},
   "outputs": [
    {
     "data": {
      "text/plain": [
       "['lego_sets', 'lego_themes', 'movie_name']"
      ]
     },
     "execution_count": 10,
     "metadata": {},
     "output_type": "execute_result"
    }
   ],
   "source": [
    "engine.table_names()"
   ]
  },
  {
   "cell_type": "code",
   "execution_count": 11,
   "metadata": {},
   "outputs": [
    {
     "data": {
      "text/html": [
       "<div>\n",
       "<style scoped>\n",
       "    .dataframe tbody tr th:only-of-type {\n",
       "        vertical-align: middle;\n",
       "    }\n",
       "\n",
       "    .dataframe tbody tr th {\n",
       "        vertical-align: top;\n",
       "    }\n",
       "\n",
       "    .dataframe thead th {\n",
       "        text-align: right;\n",
       "    }\n",
       "</style>\n",
       "<table border=\"1\" class=\"dataframe\">\n",
       "  <thead>\n",
       "    <tr style=\"text-align: right;\">\n",
       "      <th></th>\n",
       "      <th>Movies</th>\n",
       "      <th>Box Office</th>\n",
       "    </tr>\n",
       "  </thead>\n",
       "  <tbody>\n",
       "    <tr>\n",
       "      <td>0</td>\n",
       "      <td>Angry Birds</td>\n",
       "      <td>$107,506,776</td>\n",
       "    </tr>\n",
       "    <tr>\n",
       "      <td>1</td>\n",
       "      <td>Avengers</td>\n",
       "      <td>$623,279,547</td>\n",
       "    </tr>\n",
       "    <tr>\n",
       "      <td>2</td>\n",
       "      <td>Batman</td>\n",
       "      <td>N/A</td>\n",
       "    </tr>\n",
       "    <tr>\n",
       "      <td>3</td>\n",
       "      <td>Cars</td>\n",
       "      <td>$244,052,771</td>\n",
       "    </tr>\n",
       "    <tr>\n",
       "      <td>4</td>\n",
       "      <td>Disney Princess</td>\n",
       "      <td>N/A</td>\n",
       "    </tr>\n",
       "  </tbody>\n",
       "</table>\n",
       "</div>"
      ],
      "text/plain": [
       "            Movies    Box Office\n",
       "0      Angry Birds  $107,506,776\n",
       "1         Avengers  $623,279,547\n",
       "2           Batman           N/A\n",
       "3             Cars  $244,052,771\n",
       "4  Disney Princess           N/A"
      ]
     },
     "execution_count": 11,
     "metadata": {},
     "output_type": "execute_result"
    }
   ],
   "source": [
    " pd.read_sql_query('select * from movie_name', con=engine).head()"
   ]
  },
  {
   "cell_type": "code",
   "execution_count": 12,
   "metadata": {},
   "outputs": [
    {
     "data": {
      "text/plain": [
       "['lego_sets', 'lego_themes', 'movie_name']"
      ]
     },
     "execution_count": 12,
     "metadata": {},
     "output_type": "execute_result"
    }
   ],
   "source": [
    "#show that the table was created\n",
    "engine.table_names()"
   ]
  }
 ],
 "metadata": {
  "kernelspec": {
   "display_name": "Python 3",
   "language": "python",
   "name": "python3"
  },
  "language_info": {
   "codemirror_mode": {
    "name": "ipython",
    "version": 3
   },
   "file_extension": ".py",
   "mimetype": "text/x-python",
   "name": "python",
   "nbconvert_exporter": "python",
   "pygments_lexer": "ipython3",
   "version": "3.6.9"
  }
 },
 "nbformat": 4,
 "nbformat_minor": 2
}
